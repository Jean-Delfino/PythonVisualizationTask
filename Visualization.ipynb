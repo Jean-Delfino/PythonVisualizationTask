{
  "cells": [
    {
      "cell_type": "code",
      "execution_count": 2,
      "metadata": {
        "trusted": true
      },
      "outputs": [],
      "source": [
        "import pandas as pd\n",
        "import numpy as np\n",
        "import seaborn as sns\n",
        "import matplotlib.pyplot as plt\n",
        "import plotly.express as px\n",
        "import plotly \n",
        "import random\n",
        "\n",
        "from math import pi\n",
        "from itertools import count\n",
        "from sklearn.preprocessing import MinMaxScaler\n",
        "from cProfile import label"
      ]
    },
    {
      "cell_type": "code",
      "execution_count": 3,
      "metadata": {
        "trusted": true
      },
      "outputs": [],
      "source": [
        "data = pd.read_csv(\"https://raw.githubusercontent.com/Jean-Delfino/PythonVisualizationTask/master/SpotifyFeatures.csv\")"
      ]
    },
    {
      "cell_type": "code",
      "execution_count": 4,
      "metadata": {},
      "outputs": [],
      "source": [
        "#Data treatment\n",
        "data.loc[data.genre == 'Children’s Music','genre']= \"Children's Music\" "
      ]
    },
    {
      "cell_type": "code",
      "execution_count": null,
      "metadata": {},
      "outputs": [],
      "source": [
        "#Absolute values\n",
        "genre_popularity = data[['genre', 'popularity']]\n",
        "genre_popularity = genre_popularity.groupby(by = ['genre'], as_index=False).sum()\n",
        "genre_popularity"
      ]
    },
    {
      "cell_type": "code",
      "execution_count": null,
      "metadata": {},
      "outputs": [],
      "source": [
        "print(data['popularity'].mean())\n",
        "\n",
        "group_genre_popularity = data.groupby(['genre'], as_index=False)['popularity'].mean()\n",
        "\n",
        "bar_grouped = px.bar(group_genre_popularity,\n",
        "    x=\"genre\", y= \"popularity\",\n",
        "    title=\"Gráfico de barra agrupado\", barmode=\"group\")\n",
        "bar_grouped.show()"
      ]
    },
    {
      "cell_type": "code",
      "execution_count": null,
      "metadata": {},
      "outputs": [],
      "source": [
        "values = [data['acousticness'].mean(),data['danceability'].mean(),data['instrumentalness'].mean(),data['liveness'].mean(),data['loudness'].mean(),data['speechiness'].mean(),data['valence'].mean()]\n",
        "\n",
        "values_gruoup = {\n",
        "    'Category':\n",
        "        ['Acousticness', \n",
        "         'Danceability',\n",
        "         'Instrumentalness', \n",
        "         'Liveness', \n",
        "         'Loudness', \n",
        "         'Speechiness', \n",
        "         'Valence'],\n",
        "    'Mean values':values\n",
        "}\n",
        "\n",
        "group = pd.DataFrame(values_gruoup)\n",
        "group"
      ]
    },
    {
      "cell_type": "code",
      "execution_count": null,
      "metadata": {},
      "outputs": [],
      "source": [
        "genre_violins = px.violin(data[['genre', 'acousticness']],\n",
        "    x = \"genre\" , y=\"acousticness\", box=True,\n",
        "    title=\"Acousticness\")\n",
        "\n",
        "genre_violins.show()\n",
        "\n",
        "genre_violins = px.violin(data[['genre', 'danceability']],\n",
        "    x = \"genre\" , y=\"danceability\", box=True,\n",
        "    title=\"Danceability\" )\n",
        "\n",
        "genre_violins.show()\n",
        "\n",
        "genre_violins = px.violin(data[['genre', 'loudness']],\n",
        "    x = \"genre\" , y=\"loudness\", box=True,\n",
        "    title=\"Loudness\" )\n",
        "\n",
        "genre_violins.show()\n",
        "\n",
        "genre_violins = px.violin(data[['genre', 'liveness']],\n",
        "    x = \"genre\" , y=\"liveness\", box=True,\n",
        "    title=\"Liveness\" )\n",
        "\n",
        "genre_violins.show()\n",
        "\n",
        "genre_violins = px.violin(data[['genre', 'valence']],\n",
        "    x = \"genre\" , y=\"valence\", box=True,\n",
        "    title=\"Valence\" )\n",
        "\n",
        "genre_violins.show()"
      ]
    },
    {
      "cell_type": "code",
      "execution_count": null,
      "metadata": {},
      "outputs": [],
      "source": [
        "hist = px.histogram(data, x=\"genre\", nbins = 30)\n",
        "hist.show()"
      ]
    },
    {
      "cell_type": "code",
      "execution_count": null,
      "metadata": {},
      "outputs": [],
      "source": [
        "def randomColor():\n",
        "    r = random.random()\n",
        "    g = random.random()\n",
        "    b = random.random()\n",
        "    rgb = [r,g,b]   \n",
        "    return rgb"
      ]
    },
    {
      "cell_type": "code",
      "execution_count": null,
      "metadata": {},
      "outputs": [],
      "source": [
        "genre_data = data.groupby(by = ['genre'], as_index=False).sum()\n",
        "qtd = 5\n",
        "\n",
        "scaler = MinMaxScaler()\n",
        "\n",
        "genre_data = genre_data.nsmallest(qtd, ['popularity'])\n",
        "genre_names = genre_data[['genre']]\n",
        "\n",
        "genre_data = genre_data.drop(columns=['genre',  'popularity', 'tempo', 'speechiness', 'instrumentalness', 'duration_ms', 'energy'])\n",
        "\n",
        "scaler.fit(genre_data)\n",
        "\n",
        "values = scaler.transform(genre_data)\n",
        "\n",
        "angles=np.linspace(0,2*np.pi,qtd, endpoint=False)\n",
        "\n",
        "fig=plt.figure(figsize=(6,6))\n",
        "\n",
        "ax=fig.add_subplot(111, polar=True)\n",
        "ax.set_theta_offset(pi / 2)\n",
        "ax.set_theta_direction(-1)\n",
        "ax.set_rlabel_position(0)\n",
        "\n",
        "#basic plot\n",
        "ax.plot(angles,values, 'o--', color = randomColor(),linestyle='solid',linewidth=1, label= genre_names['genre'])\n",
        "#fill plot\n",
        "ax.fill(angles, values, alpha=0.25, color = randomColor())\n",
        "#add labels\n",
        "\n",
        "ax.set_thetagrids(angles * 180/np.pi, genre_data.columns)    \n",
        "plt.grid(True)\n",
        "plt.tight_layout() \n",
        "plt.legend() \n",
        "plt.show()"
      ]
    }
  ],
  "metadata": {
    "kernelspec": {
      "display_name": "Python 3.9.13 ('myenv')",
      "language": "python",
      "name": "python3"
    },
    "language_info": {
      "codemirror_mode": {
        "name": "ipython",
        "version": 3
      },
      "file_extension": ".py",
      "mimetype": "text/x-python",
      "name": "python",
      "nbconvert_exporter": "python",
      "pygments_lexer": "ipython3",
      "version": "3.9.13"
    },
    "vscode": {
      "interpreter": {
        "hash": "6fbcca974653f2392c57111caf16a46b8aa83ff695b419b9d4103a1aeb1012a7"
      }
    }
  },
  "nbformat": 4,
  "nbformat_minor": 4
}
