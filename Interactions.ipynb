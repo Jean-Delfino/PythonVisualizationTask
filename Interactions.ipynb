{
  "cells": [
    {
      "cell_type": "code",
      "execution_count": 2,
      "metadata": {
        "trusted": true
      },
      "outputs": [
        {
          "ename": "ModuleNotFoundError",
          "evalue": "No module named 'pandas'",
          "output_type": "error",
          "traceback": [
            "\u001b[1;31m---------------------------------------------------------------------------\u001b[0m",
            "\u001b[1;31mModuleNotFoundError\u001b[0m                       Traceback (most recent call last)",
            "Cell \u001b[1;32mIn [2], line 1\u001b[0m\n\u001b[1;32m----> 1\u001b[0m \u001b[39mimport\u001b[39;00m \u001b[39mpandas\u001b[39;00m \u001b[39mas\u001b[39;00m \u001b[39mpd\u001b[39;00m\n\u001b[0;32m      2\u001b[0m \u001b[39mimport\u001b[39;00m \u001b[39mnumpy\u001b[39;00m \u001b[39mas\u001b[39;00m \u001b[39mnp\u001b[39;00m\n\u001b[0;32m      3\u001b[0m \u001b[39mimport\u001b[39;00m \u001b[39mseaborn\u001b[39;00m \u001b[39mas\u001b[39;00m \u001b[39msns\u001b[39;00m\n",
            "\u001b[1;31mModuleNotFoundError\u001b[0m: No module named 'pandas'"
          ]
        }
      ],
      "source": [
        "import pandas as pd\n",
        "import numpy as np\n",
        "import seaborn as sns\n",
        "import matplotlib.pyplot as plt\n",
        "import plotly.express as px\n",
        "import plotly \n",
        "import random\n",
        "\n",
        "from math import pi\n",
        "from itertools import count\n",
        "from sklearn.preprocessing import MinMaxScaler\n",
        "from ipywidgets import widgets\n",
        "from cProfile import label"
      ]
    },
    {
      "cell_type": "code",
      "execution_count": null,
      "metadata": {
        "trusted": true
      },
      "outputs": [],
      "source": [
        "data = pd.read_csv(\"https://raw.githubusercontent.com/Jean-Delfino/PythonVisualizationTask/master/SpotifyFeatures.csv\")\n",
        "#Data treatment\n",
        "data.loc[data.genre == 'Children’s Music','genre']= \"Children's Music\""
      ]
    },
    {
      "cell_type": "code",
      "execution_count": null,
      "metadata": {},
      "outputs": [],
      "source": [
        "artists = data[['artist_name','genre', 'popularity']]\n",
        "artists_group_by_popularity = artists.groupby(by = ['artist_name', 'genre'], as_index=False).sum()\n",
        "artists_group_by_popularity = artists_group_by_popularity.sort_values(by=['popularity'], ascending=False)\n",
        "\n",
        "genres = data[\"genre\"].unique().tolist()\n",
        "genres.sort()"
      ]
    },
    {
      "cell_type": "code",
      "execution_count": null,
      "metadata": {},
      "outputs": [],
      "source": [
        "wid_query = {\n",
        "    \"query\": widgets.Text(\n",
        "        value=\"\",\n",
        "        placeholder=\"Name a genre\",\n",
        "        description=\"Genre: \",\n",
        "        disabled=False),\n",
        "    \"button\": widgets.Button(\n",
        "        description='Search',\n",
        "        disabled=False,\n",
        "        button_style='', # 'success', 'info', 'warning', 'danger' or ''\n",
        "        icon='search', # (FontAwesome names without the `fa-` prefix)\n",
        "        tooltip='Search for a genre'),\n",
        "    \"output\": widgets.Label(value=\"\")}"
      ]
    },
    {
      "cell_type": "code",
      "execution_count": null,
      "metadata": {},
      "outputs": [
        {
          "data": {
            "application/vnd.jupyter.widget-view+json": {
              "model_id": "e04ad70c3ec4476895eca252ac209683",
              "version_major": 2,
              "version_minor": 0
            },
            "text/plain": [
              "VBox(children=(HBox(children=(Text(value='', description='Genre: ', placeholder='Name a genre'), Button(descri…"
            ]
          },
          "metadata": {},
          "output_type": "display_data"
        }
      ],
      "source": [
        "def on_query(button):\n",
        "    print(artists_group_by_popularity[artists_group_by_popularity['genre'] == wid_query['query'].value].head(10))\n",
        "\n",
        "wid_query[\"button\"].on_click(on_query)\n",
        "\n",
        "widgets.VBox([\n",
        "    widgets.HBox([wid_query[\"query\"], wid_query[\"button\"]])])"
      ]
    },
    {
      "cell_type": "code",
      "execution_count": null,
      "metadata": {},
      "outputs": [
        {
          "data": {
            "application/vnd.jupyter.widget-view+json": {
              "model_id": "1d70c89967ac4d7b9b38341f147e5681",
              "version_major": 2,
              "version_minor": 0
            },
            "text/plain": [
              "VBox(children=(Dropdown(description='genres', options=('All', 'A Capella', 'Alternative', 'Anime', 'Blues', \"C…"
            ]
          },
          "metadata": {},
          "output_type": "display_data"
        }
      ],
      "source": [
        "#Dropdown showing the first visualization in the Visualization.ipynb\n",
        "#Shows for the genre popularity\n",
        "group_genre_popularity = data.groupby(['genre'], as_index=False)['popularity'].sum()\n",
        "\n",
        "popularity_text = 'Popularidade do gênero: '\n",
        "\n",
        "wid_genres = {\n",
        "    \"dropdown\": widgets.Dropdown(\n",
        "        options= [\"All\"] + genres,\n",
        "        value=\"All\",\n",
        "        description=\"genres\",\n",
        "        disabled=False),\n",
        "    \"output\": widgets.Label(value=popularity_text + str(group_genre_popularity['popularity'].nunique()))}\n",
        "\n",
        "def select_genre(dropdown):\n",
        "    wid_genres[\"output\"].value = popularity_text + str(group_genre_popularity[group_genre_popularity['genre'] == dropdown[\"new\"]]['popularity'])\n",
        "    \n",
        "# Eventos\n",
        "wid_genres[\"dropdown\"].observe(select_genre, names='value')\n",
        "\n",
        "widgets.VBox([wid_genres[\"dropdown\"], wid_genres[\"output\"]])"
      ]
    },
    {
      "cell_type": "code",
      "execution_count": null,
      "metadata": {},
      "outputs": [
        {
          "data": {
            "application/vnd.jupyter.widget-view+json": {
              "model_id": "407d2935f90f4a718901c9ecb7ec35e1",
              "version_major": 2,
              "version_minor": 0
            },
            "text/plain": [
              "VBox(children=(Dropdown(description='genres', options=('All', 'A Capella', 'Alternative', 'Anime', 'Blues', \"C…"
            ]
          },
          "metadata": {},
          "output_type": "display_data"
        }
      ],
      "source": [
        "#Show the genre amount of musics.\n",
        "\n",
        "music_qtd_text = 'Numero de músicas do gênero: '\n",
        "\n",
        "count = np.array(data[\"genre\"].value_counts(sort = False))\n",
        "\n",
        "genre_count_data = {\n",
        "    'count': count,\n",
        "    'genre': genres,\n",
        "}\n",
        "\n",
        "genre_count_dataframe = pd.DataFrame(genre_count_data)\n",
        "genre_count_dataframe = genre_count_dataframe.sort_values(by=['genre'], ascending=True)\n",
        "\n",
        "wid_qtdMusics = {\n",
        "    \"dropdown\": widgets.Dropdown(\n",
        "        options= [\"All\"] + genres,\n",
        "        value=\"All\",\n",
        "        description=\"genres\",\n",
        "        disabled=False),\n",
        "    \"output\": widgets.Label(value= music_qtd_text + str(genre_count_dataframe['genre'].nunique()))}\n",
        "\n",
        "def select_genre_count(dropdown):\n",
        "    wid_qtdMusics[\"output\"].value = music_qtd_text + str(genre_count_dataframe[group_genre_popularity['genre'] == dropdown['new']]['count'])\n",
        "\n",
        "# Eventos\n",
        "wid_qtdMusics[\"dropdown\"].observe(select_genre_count, names='value')\n",
        "\n",
        "widgets.VBox([wid_qtdMusics[\"dropdown\"], wid_qtdMusics[\"output\"]])"
      ]
    },
    {
      "cell_type": "code",
      "execution_count": null,
      "metadata": {},
      "outputs": [],
      "source": [
        "#I don't really know if i need to redo this query, but i don't know much how py works\n",
        "data_musical_categorys = (data.columns).tolist()\n",
        "data_musical_categorys.remove('genre')\n",
        "data_musical_categorys.remove('artist_name')\n",
        "data_musical_categorys.remove('track_name')\n",
        "data_musical_categorys.remove('track_id')\n",
        "\n",
        "\n",
        "music_musical_category = 'Valor da Categoria'\n",
        "\n",
        "wid_genres_categorys = {\n",
        "    \"dropdown\": widgets.Dropdown(\n",
        "        options= [\"All\"] + data_musical_categorys,\n",
        "        value=\"All\",\n",
        "        description=\"Categorias\",\n",
        "        disabled=False),\n",
        "    \"output\": widgets.Label(value= music_musical_category)}\n"
      ]
    },
    {
      "cell_type": "code",
      "execution_count": null,
      "metadata": {},
      "outputs": [],
      "source": [
        "group_genre_values = data.groupby(['genre'], as_index=False).mean()\n",
        "\n",
        "genre_count = len(genres)\n",
        "genre_count_list = np.arange(genre_count)"
      ]
    },
    {
      "cell_type": "code",
      "execution_count": null,
      "metadata": {},
      "outputs": [
        {
          "data": {
            "application/vnd.jupyter.widget-view+json": {
              "model_id": "3c70a85738b3400aa0b02b549ab72791",
              "version_major": 2,
              "version_minor": 0
            },
            "text/plain": [
              "VBox(children=(Dropdown(description='Categorias', options=('All', 'popularity', 'acousticness', 'danceability'…"
            ]
          },
          "metadata": {},
          "output_type": "display_data"
        }
      ],
      "source": [
        "#I don't know how to put label, i'm sorry\n",
        "def select_category(dropdown):\n",
        "    N = group_genre_values.shape[0]\n",
        "    area = (30 * np.random.rand(N))**2\n",
        "    colors = np.random.rand(N)\n",
        "    plt.scatter(genre_count_list, group_genre_values[dropdown['new']], s=area, c=colors, alpha=0.5)\n",
        "\n",
        "    plt.xlabel(dropdown)\n",
        "    plt.ylabel(\"Genres ordened\")\n",
        "    \n",
        "    plt.show()\n",
        "    \n",
        "    \n",
        "wid_genres_categorys[\"dropdown\"].observe(select_category, names='value')\n",
        "\n",
        "widgets.VBox([wid_genres_categorys[\"dropdown\"], wid_genres_categorys[\"output\"]])"
      ]
    }
  ],
  "metadata": {
    "kernelspec": {
      "display_name": "Python 3",
      "language": "python",
      "name": "python3"
    },
    "language_info": {
      "codemirror_mode": {
        "name": "ipython",
        "version": 3
      },
      "file_extension": ".py",
      "mimetype": "text/x-python",
      "name": "python",
      "nbconvert_exporter": "python",
      "pygments_lexer": "ipython3",
      "version": "3.10.9"
    },
    "vscode": {
      "interpreter": {
        "hash": "03d6bd56099ac1e2ace266d771b7d20986e10c71b3de3a739114e3ba1bfc5739"
      }
    }
  },
  "nbformat": 4,
  "nbformat_minor": 4
}
