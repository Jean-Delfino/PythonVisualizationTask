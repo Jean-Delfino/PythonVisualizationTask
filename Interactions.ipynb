{
  "cells": [
    {
      "cell_type": "code",
      "execution_count": 2,
      "metadata": {
        "trusted": true
      },
      "outputs": [],
      "source": [
        "import pandas as pd\n",
        "import numpy as np\n",
        "import seaborn as sns\n",
        "import matplotlib.pyplot as plt\n",
        "import plotly.express as px\n",
        "import plotly \n",
        "import random\n",
        "\n",
        "from math import pi\n",
        "from itertools import count\n",
        "from sklearn.preprocessing import MinMaxScaler\n",
        "from ipywidgets import widgets\n",
        "from cProfile import label"
      ]
    },
    {
      "cell_type": "code",
      "execution_count": 3,
      "metadata": {
        "trusted": true
      },
      "outputs": [],
      "source": [
        "data = pd.read_csv(\"https://raw.githubusercontent.com/Jean-Delfino/PythonVisualizationTask/master/SpotifyFeatures.csv\")"
      ]
    },
    {
      "cell_type": "code",
      "execution_count": 4,
      "metadata": {},
      "outputs": [],
      "source": [
        "#Data treatment\n",
        "data.loc[data.genre == 'Children’s Music','genre']= \"Children's Music\""
      ]
    },
    {
      "cell_type": "code",
      "execution_count": 5,
      "metadata": {},
      "outputs": [],
      "source": [
        "artists = data[['artist_name','genre', 'popularity']]\n",
        "artists_group_by_popularity = artists.groupby(by = ['artist_name', 'genre'], as_index=False).sum()\n",
        "artists_group_by_popularity = artists_group_by_popularity.sort_values(by=['popularity'], ascending=False)"
      ]
    },
    {
      "cell_type": "code",
      "execution_count": 6,
      "metadata": {},
      "outputs": [],
      "source": [
        "wid_query = {\n",
        "    \"query\": widgets.Text(\n",
        "        value=\"\",\n",
        "        placeholder=\"Name a genre\",\n",
        "        description=\"Genre: \",\n",
        "        disabled=False),\n",
        "    \"button\": widgets.Button(\n",
        "        description='Search',\n",
        "        disabled=False,\n",
        "        button_style='', # 'success', 'info', 'warning', 'danger' or ''\n",
        "        icon='search', # (FontAwesome names without the `fa-` prefix)\n",
        "        tooltip='Search for a genre'),\n",
        "    \"output\": widgets.Label(value=\"\")}"
      ]
    },
    {
      "cell_type": "code",
      "execution_count": 7,
      "metadata": {},
      "outputs": [
        {
          "data": {
            "application/vnd.jupyter.widget-view+json": {
              "model_id": "53e5a2592e1c4bf2a057ec92c0f51ce2",
              "version_major": 2,
              "version_minor": 0
            },
            "text/plain": [
              "VBox(children=(HBox(children=(Text(value='', description='Genre: ', placeholder='Name a genre'), Button(descri…"
            ]
          },
          "metadata": {},
          "output_type": "display_data"
        }
      ],
      "source": [
        "def on_query(button):\n",
        "    print(artists_group_by_popularity[artists_group_by_popularity['genre'] == wid_query['query'].value].head(10))\n",
        "\n",
        "wid_query[\"button\"].on_click(on_query)\n",
        "\n",
        "widgets.VBox([\n",
        "    widgets.HBox([wid_query[\"query\"], wid_query[\"button\"]])])"
      ]
    },
    {
      "cell_type": "code",
      "execution_count": 13,
      "metadata": {},
      "outputs": [
        {
          "data": {
            "application/vnd.jupyter.widget-view+json": {
              "model_id": "6ed0eb3a71594b17a61a0e769b4d55c5",
              "version_major": 2,
              "version_minor": 0
            },
            "text/plain": [
              "HBox(children=(Play(value=99373, description='Years', interval=500, max=323027, min=99373), IntSlider(value=99…"
            ]
          },
          "metadata": {},
          "output_type": "display_data"
        }
      ],
      "source": []
    },
    {
      "cell_type": "code",
      "execution_count": null,
      "metadata": {},
      "outputs": [],
      "source": []
    }
  ],
  "metadata": {
    "kernelspec": {
      "display_name": "Python 3.9.13 ('myenv')",
      "language": "python",
      "name": "python3"
    },
    "language_info": {
      "codemirror_mode": {
        "name": "ipython",
        "version": 3
      },
      "file_extension": ".py",
      "mimetype": "text/x-python",
      "name": "python",
      "nbconvert_exporter": "python",
      "pygments_lexer": "ipython3",
      "version": "3.9.13"
    },
    "vscode": {
      "interpreter": {
        "hash": "6fbcca974653f2392c57111caf16a46b8aa83ff695b419b9d4103a1aeb1012a7"
      }
    }
  },
  "nbformat": 4,
  "nbformat_minor": 4
}
