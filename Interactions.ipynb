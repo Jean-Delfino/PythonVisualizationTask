{
  "cells": [
    {
      "cell_type": "code",
      "execution_count": 3,
      "metadata": {
        "trusted": true
      },
      "outputs": [],
      "source": [
        "import pandas as pd\n",
        "import numpy as np\n",
        "import seaborn as sns\n",
        "import matplotlib.pyplot as plt\n",
        "import plotly.express as px\n",
        "import plotly \n",
        "import random\n",
        "\n",
        "from math import pi\n",
        "from itertools import count\n",
        "from sklearn.preprocessing import MinMaxScaler\n",
        "from ipywidgets import widgets\n",
        "from cProfile import label"
      ]
    },
    {
      "cell_type": "code",
      "execution_count": 2,
      "metadata": {
        "trusted": true
      },
      "outputs": [],
      "source": [
        "data = pd.read_csv(\"https://raw.githubusercontent.com/Jean-Delfino/PythonVisualizationTask/master/SpotifyFeatures.csv\")\n",
        "#Data treatment\n",
        "data.loc[data.genre == 'Children’s Music','genre']= \"Children's Music\""
      ]
    },
    {
      "cell_type": "code",
      "execution_count": 119,
      "metadata": {},
      "outputs": [
        {
          "name": "stdout",
          "output_type": "stream",
          "text": [
            "['A Capella', 'Alternative', 'Anime', 'Blues', \"Children's Music\", 'Classical', 'Comedy', 'Country', 'Dance', 'Electronic', 'Folk', 'Hip-Hop', 'Indie', 'Jazz', 'Movie', 'Opera', 'Pop', 'R&B', 'Rap', 'Reggae', 'Reggaeton', 'Rock', 'Ska', 'Soul', 'Soundtrack', 'World']\n"
          ]
        }
      ],
      "source": [
        "artists = data[['artist_name','genre', 'popularity']]\n",
        "artists_group_by_popularity = artists.groupby(by = ['artist_name', 'genre'], as_index=False).sum()\n",
        "artists_group_by_popularity = artists_group_by_popularity.sort_values(by=['popularity'], ascending=False)\n",
        "\n",
        "genres = data[\"genre\"].unique().tolist()\n",
        "genres.sort()\n",
        "\n",
        "print(genres)"
      ]
    },
    {
      "cell_type": "code",
      "execution_count": 5,
      "metadata": {},
      "outputs": [],
      "source": [
        "wid_query = {\n",
        "    \"query\": widgets.Text(\n",
        "        value=\"\",\n",
        "        placeholder=\"Name a genre\",\n",
        "        description=\"Genre: \",\n",
        "        disabled=False),\n",
        "    \"button\": widgets.Button(\n",
        "        description='Search',\n",
        "        disabled=False,\n",
        "        button_style='', # 'success', 'info', 'warning', 'danger' or ''\n",
        "        icon='search', # (FontAwesome names without the `fa-` prefix)\n",
        "        tooltip='Search for a genre'),\n",
        "    \"output\": widgets.Label(value=\"\")}"
      ]
    },
    {
      "cell_type": "code",
      "execution_count": 6,
      "metadata": {},
      "outputs": [
        {
          "data": {
            "application/vnd.jupyter.widget-view+json": {
              "model_id": "3d24c4594f314fd3959322cfbe53767d",
              "version_major": 2,
              "version_minor": 0
            },
            "text/plain": [
              "VBox(children=(HBox(children=(Text(value='', description='Genre: ', placeholder='Name a genre'), Button(descri…"
            ]
          },
          "metadata": {},
          "output_type": "display_data"
        }
      ],
      "source": [
        "def on_query(button):\n",
        "    print(artists_group_by_popularity[artists_group_by_popularity['genre'] == wid_query['query'].value].head(10))\n",
        "\n",
        "wid_query[\"button\"].on_click(on_query)\n",
        "\n",
        "widgets.VBox([\n",
        "    widgets.HBox([wid_query[\"query\"], wid_query[\"button\"]])])"
      ]
    },
    {
      "cell_type": "code",
      "execution_count": 120,
      "metadata": {},
      "outputs": [
        {
          "data": {
            "application/vnd.jupyter.widget-view+json": {
              "model_id": "06ebedb65ac8410b81a7de9adf45e033",
              "version_major": 2,
              "version_minor": 0
            },
            "text/plain": [
              "VBox(children=(Dropdown(description='genres', options=('All', 'A Capella', 'Alternative', 'Anime', 'Blues', \"C…"
            ]
          },
          "metadata": {},
          "output_type": "display_data"
        }
      ],
      "source": [
        "#Dropdown showing the first visualization in the Visualization.ipynb\n",
        "#Shows for the genre popularity\n",
        "group_genre_popularity = data.groupby(['genre'], as_index=False)['popularity'].sum()\n",
        "\n",
        "popularity_text = 'Popularidade do gênero: '\n",
        "\n",
        "wid_genres = {\n",
        "    \"dropdown\": widgets.Dropdown(\n",
        "        options= [\"All\"] + genres,\n",
        "        value=\"All\",\n",
        "        description=\"genres\",\n",
        "        disabled=False),\n",
        "    \"output\": widgets.Label(value=popularity_text + str(group_genre_popularity['popularity'].nunique()))}\n",
        "\n",
        "def select_genre(dropdown):\n",
        "    wid_genres[\"output\"].value = popularity_text + str(group_genre_popularity[group_genre_popularity['genre'] == dropdown[\"new\"]]['popularity'])\n",
        "    \n",
        "# Eventos\n",
        "wid_genres[\"dropdown\"].observe(select_genre, names='value')\n",
        "\n",
        "widgets.VBox([wid_genres[\"dropdown\"], wid_genres[\"output\"]])"
      ]
    },
    {
      "cell_type": "code",
      "execution_count": 121,
      "metadata": {},
      "outputs": [
        {
          "data": {
            "application/vnd.jupyter.widget-view+json": {
              "model_id": "ad871650ebc542f9b033a29f250d96ad",
              "version_major": 2,
              "version_minor": 0
            },
            "text/plain": [
              "VBox(children=(Dropdown(description='genres', options=('All', 'A Capella', 'Alternative', 'Anime', 'Blues', \"C…"
            ]
          },
          "metadata": {},
          "output_type": "display_data"
        }
      ],
      "source": [
        "#Show the genre amount of musics.\n",
        "\n",
        "music_qtd_text = 'Numero de músicas do gênero: '\n",
        "\n",
        "count = np.array(data[\"genre\"].value_counts(sort = False))\n",
        "\n",
        "genre_count_data = {\n",
        "    'count': count,\n",
        "    'genre': genres,\n",
        "}\n",
        "\n",
        "genre_count_dataframe = pd.DataFrame(genre_count_data)\n",
        "genre_count_dataframe = genre_count_dataframe.sort_values(by=['genre'], ascending=True)\n",
        "\n",
        "wid_qtdMusics = {\n",
        "    \"dropdown\": widgets.Dropdown(\n",
        "        options= [\"All\"] + genres,\n",
        "        value=\"All\",\n",
        "        description=\"genres\",\n",
        "        disabled=False),\n",
        "    \"output\": widgets.Label(value= music_qtd_text + str(genre_count_dataframe['genre'].nunique()))}\n",
        "\n",
        "def select_genre_count(dropdown):\n",
        "    wid_qtdMusics[\"output\"].value = music_qtd_text + str(genre_count_dataframe[group_genre_popularity['genre'] == dropdown['new']]['count'])\n",
        "\n",
        "# Eventos\n",
        "wid_qtdMusics[\"dropdown\"].observe(select_genre_count, names='value')\n",
        "\n",
        "widgets.VBox([wid_qtdMusics[\"dropdown\"], wid_qtdMusics[\"output\"]])"
      ]
    }
  ],
  "metadata": {
    "kernelspec": {
      "display_name": "Python 3.9.13 ('myenv')",
      "language": "python",
      "name": "python3"
    },
    "language_info": {
      "codemirror_mode": {
        "name": "ipython",
        "version": 3
      },
      "file_extension": ".py",
      "mimetype": "text/x-python",
      "name": "python",
      "nbconvert_exporter": "python",
      "pygments_lexer": "ipython3",
      "version": "3.9.13"
    },
    "vscode": {
      "interpreter": {
        "hash": "6fbcca974653f2392c57111caf16a46b8aa83ff695b419b9d4103a1aeb1012a7"
      }
    }
  },
  "nbformat": 4,
  "nbformat_minor": 4
}
