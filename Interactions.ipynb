{
  "cells": [
    {
      "cell_type": "code",
      "execution_count": 1,
      "metadata": {
        "trusted": true
      },
      "outputs": [],
      "source": [
        "import pandas as pd\n",
        "import numpy as np\n",
        "import seaborn as sns\n",
        "import matplotlib.pyplot as plt\n",
        "import plotly.express as px\n",
        "import plotly \n",
        "import random\n",
        "\n",
        "from math import pi\n",
        "from itertools import count\n",
        "from sklearn.preprocessing import MinMaxScaler\n",
        "from ipywidgets import widgets\n",
        "from cProfile import label"
      ]
    },
    {
      "cell_type": "code",
      "execution_count": 3,
      "metadata": {
        "trusted": true
      },
      "outputs": [],
      "source": [
        "data = pd.read_csv(\"https://raw.githubusercontent.com/Jean-Delfino/PythonVisualizationTask/master/SpotifyFeatures.csv\")\n",
        "#Data treatment\n",
        "data.loc[data.genre == 'Children’s Music','genre']= \"Children's Music\""
      ]
    },
    {
      "cell_type": "code",
      "execution_count": 4,
      "metadata": {},
      "outputs": [],
      "source": [
        "artists = data[['artist_name','genre', 'popularity']]\n",
        "artists_group_by_popularity = artists.groupby(by = ['artist_name', 'genre'], as_index=False).sum()\n",
        "artists_group_by_popularity = artists_group_by_popularity.sort_values(by=['popularity'], ascending=False)"
      ]
    },
    {
      "cell_type": "code",
      "execution_count": null,
      "metadata": {},
      "outputs": [],
      "source": [
        "wid_query = {\n",
        "    \"query\": widgets.Text(\n",
        "        value=\"\",\n",
        "        placeholder=\"Name a genre\",\n",
        "        description=\"Genre: \",\n",
        "        disabled=False),\n",
        "    \"button\": widgets.Button(\n",
        "        description='Search',\n",
        "        disabled=False,\n",
        "        button_style='', # 'success', 'info', 'warning', 'danger' or ''\n",
        "        icon='search', # (FontAwesome names without the `fa-` prefix)\n",
        "        tooltip='Search for a genre'),\n",
        "    \"output\": widgets.Label(value=\"\")}"
      ]
    },
    {
      "cell_type": "code",
      "execution_count": null,
      "metadata": {},
      "outputs": [],
      "source": [
        "def on_query(button):\n",
        "    print(artists_group_by_popularity[artists_group_by_popularity['genre'] == wid_query['query'].value].head(10))\n",
        "\n",
        "wid_query[\"button\"].on_click(on_query)\n",
        "\n",
        "widgets.VBox([\n",
        "    widgets.HBox([wid_query[\"query\"], wid_query[\"button\"]])])"
      ]
    },
    {
      "cell_type": "code",
      "execution_count": 15,
      "metadata": {},
      "outputs": [
        {
          "data": {
            "application/vnd.jupyter.widget-view+json": {
              "model_id": "693a03703a494708be08e5fdc7cbf2a8",
              "version_major": 2,
              "version_minor": 0
            },
            "text/plain": [
              "VBox(children=(Dropdown(description='genres', options=('All', 'A Capella', 'Alternative', 'Anime', 'Blues', \"C…"
            ]
          },
          "metadata": {},
          "output_type": "display_data"
        }
      ],
      "source": [
        "#Dropdown showing the first visualization in the Visualization.ipynb\n",
        "#Shows for the genre popularity\n",
        "group_genre_popularity = data.groupby(['genre'], as_index=False)['popularity'].sum()\n",
        "\n",
        "genres = group_genre_popularity[\"genre\"].unique().tolist()\n",
        "text = 'Número de músicas do gênero: '\n",
        "\n",
        "wid_continents = {\n",
        "    \"dropdown\": widgets.Dropdown(\n",
        "        options= [\"All\"] + genres,\n",
        "        value=\"All\",\n",
        "        description=\"genres\",\n",
        "        disabled=False),\n",
        "    \"output\": widgets.Label(value=text + str(group_genre_popularity['popularity'].nunique()))}\n",
        "\n",
        "def select_continent(dropdown):\n",
        "    wid_continents[\"output\"].value = text + str(group_genre_popularity[group_genre_popularity['genre'] == dropdown[\"new\"]]['popularity'])\n",
        "    \n",
        "# Eventos\n",
        "wid_continents[\"dropdown\"].observe(select_continent, names='value')\n",
        "\n",
        "widgets.VBox([wid_continents[\"dropdown\"], wid_continents[\"output\"]])"
      ]
    },
    {
      "cell_type": "code",
      "execution_count": 11,
      "metadata": {},
      "outputs": [
        {
          "name": "stdout",
          "output_type": "stream",
          "text": [
            "               genre  popularity\n",
            "0          A Capella        1107\n",
            "1        Alternative      465127\n",
            "2              Anime      216776\n",
            "3              Blues      313485\n",
            "4   Children's Music      534203\n",
            "5          Classical      271036\n",
            "6             Comedy      206618\n",
            "7            Country      399414\n",
            "8              Dance      498352\n",
            "9         Electronic      356852\n",
            "10              Folk      464394\n",
            "11           Hip-Hop      543043\n",
            "12             Indie      522017\n",
            "13              Jazz      385423\n",
            "14             Movie       95031\n",
            "15             Opera      110419\n",
            "16               Pop      625020\n",
            "17               R&B      470360\n",
            "18               Rap      558848\n",
            "19            Reggae      312154\n",
            "20         Reggaeton      336931\n",
            "21              Rock      552791\n",
            "22               Ska      253906\n",
            "23              Soul      427436\n",
            "24        Soundtrack      327528\n",
            "25             World      323127\n"
          ]
        }
      ],
      "source": [
        "print(group_genre_popularity)"
      ]
    },
    {
      "cell_type": "code",
      "execution_count": null,
      "metadata": {},
      "outputs": [],
      "source": []
    }
  ],
  "metadata": {
    "kernelspec": {
      "display_name": "Python 3.9.13 ('myenv')",
      "language": "python",
      "name": "python3"
    },
    "language_info": {
      "codemirror_mode": {
        "name": "ipython",
        "version": 3
      },
      "file_extension": ".py",
      "mimetype": "text/x-python",
      "name": "python",
      "nbconvert_exporter": "python",
      "pygments_lexer": "ipython3",
      "version": "3.9.13"
    },
    "vscode": {
      "interpreter": {
        "hash": "6fbcca974653f2392c57111caf16a46b8aa83ff695b419b9d4103a1aeb1012a7"
      }
    }
  },
  "nbformat": 4,
  "nbformat_minor": 4
}
